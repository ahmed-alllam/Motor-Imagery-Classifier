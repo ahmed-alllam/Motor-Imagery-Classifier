{
 "cells": [
  {
   "cell_type": "code",
   "execution_count": null,
   "id": "5f2badc0-89a7-44f0-aa1d-927f80e4fdd3",
   "metadata": {
    "collapsed": false
   },
   "outputs": [],
   "source": []
  },
  {
   "cell_type": "code",
   "execution_count": null,
   "id": "1dbe5244-c911-48e7-b8c3-f76b8d6cf7d8",
   "metadata": {
    "collapsed": false
   },
   "outputs": [],
   "source": []
  },
  {
   "cell_type": "code",
   "execution_count": null,
   "id": "3efa943b-1860-40ba-889c-0d7c726c5827",
   "metadata": {
    "collapsed": false
   },
   "outputs": [],
   "source": []
  }
 ],
 "metadata": {
  "kernelspec": {
   "argv": [
    "python",
    "-m",
    "ipykernel_launcher",
    "-f",
    "{connection_file}"
   ],
   "display_name": "Python 3 (ipykernel)",
   "env": null,
   "interrupt_mode": "signal",
   "language": "python",
   "metadata": {
    "debugger": true
   },
   "name": "python3"
  },
  "name": "build_model.ipynb"
 },
 "nbformat": 4,
 "nbformat_minor": 5
}
