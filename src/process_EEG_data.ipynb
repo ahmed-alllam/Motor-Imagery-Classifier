{
 "cells": [
  {
   "cell_type": "code",
   "execution_count": null,
   "id": "3ecab7c7-2bbc-4c92-8b40-02213ade3215",
   "metadata": {
    "collapsed": false
   },
   "outputs": [],
   "source": [
    "import numpy as np\n",
    "import pandas as pd\n",
    "import matplotlib.pyplot as plt\n",
    "import seaborn as sns\n"
   ]
  },
  {
   "cell_type": "code",
   "execution_count": null,
   "id": "80820e8d-e2ee-4342-b5c0-3151dd734385",
   "metadata": {
    "collapsed": false
   },
   "outputs": [],
   "source": []
  },
  {
   "cell_type": "code",
   "execution_count": null,
   "id": "9aef831d-09fc-4725-a7c7-d87aa25b3a3a",
   "metadata": {
    "collapsed": false
   },
   "outputs": [],
   "source": []
  },
  {
   "cell_type": "code",
   "execution_count": null,
   "id": "1707b56f-a79b-4aff-af9a-68f6d86fe724",
   "metadata": {
    "collapsed": false
   },
   "outputs": [],
   "source": []
  }
 ],
 "metadata": {
  "kernelspec": {
   "argv": [
    "python",
    "-m",
    "ipykernel_launcher",
    "-f",
    "{connection_file}"
   ],
   "display_name": "Python 3 (ipykernel)",
   "env": null,
   "interrupt_mode": "signal",
   "language": "python",
   "metadata": {
    "debugger": true
   },
   "name": "python3"
  },
  "name": "process_EEG_data.ipynb"
 },
 "nbformat": 4,
 "nbformat_minor": 5
}
